{
  "nbformat": 4,
  "nbformat_minor": 0,
  "metadata": {
    "colab": {
      "provenance": []
    },
    "kernelspec": {
      "name": "python3",
      "display_name": "Python 3"
    },
    "language_info": {
      "name": "python"
    }
  },
  "cells": [
    {
      "cell_type": "markdown",
      "source": [
        "**IMPORTING LIBRARIES**\n",
        "\n",
        "Pandas is a Python library used for working with data sets. It has functions for analyzing, cleaning, exploring, and manipulating data."
      ],
      "metadata": {
        "id": "tL2Cg4V1n5al"
      }
    },
    {
      "cell_type": "code",
      "execution_count": null,
      "metadata": {
        "id": "0DnIXBSX0wcN"
      },
      "outputs": [],
      "source": [
        "import pandas as pd\n",
        "import matplotlib.pyplot as plt\n",
        "import seaborn as sns "
      ]
    },
    {
      "cell_type": "markdown",
      "source": [
        "**MOUNTING DRIVE**\n",
        "\n"
      ],
      "metadata": {
        "id": "NL1dMLxAEKX3"
      }
    },
    {
      "cell_type": "code",
      "source": [
        "from google.colab import drive\n",
        "drive.mount(\"/content/gdrive\")"
      ],
      "metadata": {
        "colab": {
          "base_uri": "https://localhost:8080/"
        },
        "id": "SXMEoVb--bnQ",
        "outputId": "d748d4df-b128-43c5-8d7b-bbf6d50cfb9a"
      },
      "execution_count": null,
      "outputs": [
        {
          "output_type": "stream",
          "name": "stdout",
          "text": [
            "Mounted at /content/gdrive\n"
          ]
        }
      ]
    },
    {
      "cell_type": "markdown",
      "source": [
        "**READING THE DATASET**"
      ],
      "metadata": {
        "id": "RqMY6MU_rjPw"
      }
    },
    {
      "cell_type": "code",
      "source": [
        "import pandas as pd\n",
        "dataframe =pd.read_csv('/content/gdrive/My Drive/Project Datasets - 2014 (3).csv')"
      ],
      "metadata": {
        "id": "OZWMOz1d-fA0"
      },
      "execution_count": null,
      "outputs": []
    },
    {
      "cell_type": "code",
      "source": [
        "dataframe.head()"
      ],
      "metadata": {
        "colab": {
          "base_uri": "https://localhost:8080/",
          "height": 374
        },
        "id": "Z1jWxiIq-3XH",
        "outputId": "cdceb91b-388c-40e0-f223-ebbde6d3ff98"
      },
      "execution_count": null,
      "outputs": [
        {
          "output_type": "execute_result",
          "data": {
            "text/plain": [
              "            Club Name  Games Played  Wins  Goals       G/M  Clean Sheets  \\\n",
              "0       Chennaiyin FC            16     7     27  1.687500             3   \n",
              "1              FC Goa            16     6     21  1.312500             7   \n",
              "2              ATK FC            17     6     17  1.000000             8   \n",
              "3    Delhi Dynamos FC            14     5     16  1.142857             5   \n",
              "4  Kerala Blasters FC            17     4     13  0.764706             8   \n",
              "\n",
              "   Successful Passes        SP/M  Draws  Fouls  Touches         T/M  Crosses  \\\n",
              "0               4695  293.437500      5    237     9071  566.937500      242   \n",
              "1               5133  320.812500      6    210     9693  605.812500      256   \n",
              "2               4312  253.647059      9    250     9163  539.000000      277   \n",
              "3               4074  291.000000      6    145     7936  566.857143      267   \n",
              "4               4716  277.411765      4    218     9511  559.470588      323   \n",
              "\n",
              "         C/M  Red Cards  Shots        S/M  Total Points  Rank  \n",
              "0  15.125000          3    223  13.937500            26     3  \n",
              "1  16.000000          1    228  14.250000            24     4  \n",
              "2  16.294118          3    175  10.294118            27     1  \n",
              "3  19.071429          2    168  12.000000            21     5  \n",
              "4  19.000000          1    189  11.117647            16     2  "
            ],
            "text/html": [
              "\n",
              "  <div id=\"df-0f0766b1-cecb-49e8-b29d-7419aa6f9be9\">\n",
              "    <div class=\"colab-df-container\">\n",
              "      <div>\n",
              "<style scoped>\n",
              "    .dataframe tbody tr th:only-of-type {\n",
              "        vertical-align: middle;\n",
              "    }\n",
              "\n",
              "    .dataframe tbody tr th {\n",
              "        vertical-align: top;\n",
              "    }\n",
              "\n",
              "    .dataframe thead th {\n",
              "        text-align: right;\n",
              "    }\n",
              "</style>\n",
              "<table border=\"1\" class=\"dataframe\">\n",
              "  <thead>\n",
              "    <tr style=\"text-align: right;\">\n",
              "      <th></th>\n",
              "      <th>Club Name</th>\n",
              "      <th>Games Played</th>\n",
              "      <th>Wins</th>\n",
              "      <th>Goals</th>\n",
              "      <th>G/M</th>\n",
              "      <th>Clean Sheets</th>\n",
              "      <th>Successful Passes</th>\n",
              "      <th>SP/M</th>\n",
              "      <th>Draws</th>\n",
              "      <th>Fouls</th>\n",
              "      <th>Touches</th>\n",
              "      <th>T/M</th>\n",
              "      <th>Crosses</th>\n",
              "      <th>C/M</th>\n",
              "      <th>Red Cards</th>\n",
              "      <th>Shots</th>\n",
              "      <th>S/M</th>\n",
              "      <th>Total Points</th>\n",
              "      <th>Rank</th>\n",
              "    </tr>\n",
              "  </thead>\n",
              "  <tbody>\n",
              "    <tr>\n",
              "      <th>0</th>\n",
              "      <td>Chennaiyin FC</td>\n",
              "      <td>16</td>\n",
              "      <td>7</td>\n",
              "      <td>27</td>\n",
              "      <td>1.687500</td>\n",
              "      <td>3</td>\n",
              "      <td>4695</td>\n",
              "      <td>293.437500</td>\n",
              "      <td>5</td>\n",
              "      <td>237</td>\n",
              "      <td>9071</td>\n",
              "      <td>566.937500</td>\n",
              "      <td>242</td>\n",
              "      <td>15.125000</td>\n",
              "      <td>3</td>\n",
              "      <td>223</td>\n",
              "      <td>13.937500</td>\n",
              "      <td>26</td>\n",
              "      <td>3</td>\n",
              "    </tr>\n",
              "    <tr>\n",
              "      <th>1</th>\n",
              "      <td>FC Goa</td>\n",
              "      <td>16</td>\n",
              "      <td>6</td>\n",
              "      <td>21</td>\n",
              "      <td>1.312500</td>\n",
              "      <td>7</td>\n",
              "      <td>5133</td>\n",
              "      <td>320.812500</td>\n",
              "      <td>6</td>\n",
              "      <td>210</td>\n",
              "      <td>9693</td>\n",
              "      <td>605.812500</td>\n",
              "      <td>256</td>\n",
              "      <td>16.000000</td>\n",
              "      <td>1</td>\n",
              "      <td>228</td>\n",
              "      <td>14.250000</td>\n",
              "      <td>24</td>\n",
              "      <td>4</td>\n",
              "    </tr>\n",
              "    <tr>\n",
              "      <th>2</th>\n",
              "      <td>ATK FC</td>\n",
              "      <td>17</td>\n",
              "      <td>6</td>\n",
              "      <td>17</td>\n",
              "      <td>1.000000</td>\n",
              "      <td>8</td>\n",
              "      <td>4312</td>\n",
              "      <td>253.647059</td>\n",
              "      <td>9</td>\n",
              "      <td>250</td>\n",
              "      <td>9163</td>\n",
              "      <td>539.000000</td>\n",
              "      <td>277</td>\n",
              "      <td>16.294118</td>\n",
              "      <td>3</td>\n",
              "      <td>175</td>\n",
              "      <td>10.294118</td>\n",
              "      <td>27</td>\n",
              "      <td>1</td>\n",
              "    </tr>\n",
              "    <tr>\n",
              "      <th>3</th>\n",
              "      <td>Delhi Dynamos FC</td>\n",
              "      <td>14</td>\n",
              "      <td>5</td>\n",
              "      <td>16</td>\n",
              "      <td>1.142857</td>\n",
              "      <td>5</td>\n",
              "      <td>4074</td>\n",
              "      <td>291.000000</td>\n",
              "      <td>6</td>\n",
              "      <td>145</td>\n",
              "      <td>7936</td>\n",
              "      <td>566.857143</td>\n",
              "      <td>267</td>\n",
              "      <td>19.071429</td>\n",
              "      <td>2</td>\n",
              "      <td>168</td>\n",
              "      <td>12.000000</td>\n",
              "      <td>21</td>\n",
              "      <td>5</td>\n",
              "    </tr>\n",
              "    <tr>\n",
              "      <th>4</th>\n",
              "      <td>Kerala Blasters FC</td>\n",
              "      <td>17</td>\n",
              "      <td>4</td>\n",
              "      <td>13</td>\n",
              "      <td>0.764706</td>\n",
              "      <td>8</td>\n",
              "      <td>4716</td>\n",
              "      <td>277.411765</td>\n",
              "      <td>4</td>\n",
              "      <td>218</td>\n",
              "      <td>9511</td>\n",
              "      <td>559.470588</td>\n",
              "      <td>323</td>\n",
              "      <td>19.000000</td>\n",
              "      <td>1</td>\n",
              "      <td>189</td>\n",
              "      <td>11.117647</td>\n",
              "      <td>16</td>\n",
              "      <td>2</td>\n",
              "    </tr>\n",
              "  </tbody>\n",
              "</table>\n",
              "</div>\n",
              "      <button class=\"colab-df-convert\" onclick=\"convertToInteractive('df-0f0766b1-cecb-49e8-b29d-7419aa6f9be9')\"\n",
              "              title=\"Convert this dataframe to an interactive table.\"\n",
              "              style=\"display:none;\">\n",
              "        \n",
              "  <svg xmlns=\"http://www.w3.org/2000/svg\" height=\"24px\"viewBox=\"0 0 24 24\"\n",
              "       width=\"24px\">\n",
              "    <path d=\"M0 0h24v24H0V0z\" fill=\"none\"/>\n",
              "    <path d=\"M18.56 5.44l.94 2.06.94-2.06 2.06-.94-2.06-.94-.94-2.06-.94 2.06-2.06.94zm-11 1L8.5 8.5l.94-2.06 2.06-.94-2.06-.94L8.5 2.5l-.94 2.06-2.06.94zm10 10l.94 2.06.94-2.06 2.06-.94-2.06-.94-.94-2.06-.94 2.06-2.06.94z\"/><path d=\"M17.41 7.96l-1.37-1.37c-.4-.4-.92-.59-1.43-.59-.52 0-1.04.2-1.43.59L10.3 9.45l-7.72 7.72c-.78.78-.78 2.05 0 2.83L4 21.41c.39.39.9.59 1.41.59.51 0 1.02-.2 1.41-.59l7.78-7.78 2.81-2.81c.8-.78.8-2.07 0-2.86zM5.41 20L4 18.59l7.72-7.72 1.47 1.35L5.41 20z\"/>\n",
              "  </svg>\n",
              "      </button>\n",
              "      \n",
              "  <style>\n",
              "    .colab-df-container {\n",
              "      display:flex;\n",
              "      flex-wrap:wrap;\n",
              "      gap: 12px;\n",
              "    }\n",
              "\n",
              "    .colab-df-convert {\n",
              "      background-color: #E8F0FE;\n",
              "      border: none;\n",
              "      border-radius: 50%;\n",
              "      cursor: pointer;\n",
              "      display: none;\n",
              "      fill: #1967D2;\n",
              "      height: 32px;\n",
              "      padding: 0 0 0 0;\n",
              "      width: 32px;\n",
              "    }\n",
              "\n",
              "    .colab-df-convert:hover {\n",
              "      background-color: #E2EBFA;\n",
              "      box-shadow: 0px 1px 2px rgba(60, 64, 67, 0.3), 0px 1px 3px 1px rgba(60, 64, 67, 0.15);\n",
              "      fill: #174EA6;\n",
              "    }\n",
              "\n",
              "    [theme=dark] .colab-df-convert {\n",
              "      background-color: #3B4455;\n",
              "      fill: #D2E3FC;\n",
              "    }\n",
              "\n",
              "    [theme=dark] .colab-df-convert:hover {\n",
              "      background-color: #434B5C;\n",
              "      box-shadow: 0px 1px 3px 1px rgba(0, 0, 0, 0.15);\n",
              "      filter: drop-shadow(0px 1px 2px rgba(0, 0, 0, 0.3));\n",
              "      fill: #FFFFFF;\n",
              "    }\n",
              "  </style>\n",
              "\n",
              "      <script>\n",
              "        const buttonEl =\n",
              "          document.querySelector('#df-0f0766b1-cecb-49e8-b29d-7419aa6f9be9 button.colab-df-convert');\n",
              "        buttonEl.style.display =\n",
              "          google.colab.kernel.accessAllowed ? 'block' : 'none';\n",
              "\n",
              "        async function convertToInteractive(key) {\n",
              "          const element = document.querySelector('#df-0f0766b1-cecb-49e8-b29d-7419aa6f9be9');\n",
              "          const dataTable =\n",
              "            await google.colab.kernel.invokeFunction('convertToInteractive',\n",
              "                                                     [key], {});\n",
              "          if (!dataTable) return;\n",
              "\n",
              "          const docLinkHtml = 'Like what you see? Visit the ' +\n",
              "            '<a target=\"_blank\" href=https://colab.research.google.com/notebooks/data_table.ipynb>data table notebook</a>'\n",
              "            + ' to learn more about interactive tables.';\n",
              "          element.innerHTML = '';\n",
              "          dataTable['output_type'] = 'display_data';\n",
              "          await google.colab.output.renderOutput(dataTable, element);\n",
              "          const docLink = document.createElement('div');\n",
              "          docLink.innerHTML = docLinkHtml;\n",
              "          element.appendChild(docLink);\n",
              "        }\n",
              "      </script>\n",
              "    </div>\n",
              "  </div>\n",
              "  "
            ]
          },
          "metadata": {},
          "execution_count": 4
        }
      ]
    },
    {
      "cell_type": "code",
      "source": [
        "dataframe.describe()"
      ],
      "metadata": {
        "colab": {
          "base_uri": "https://localhost:8080/",
          "height": 381
        },
        "id": "IaEIK-N9-3mO",
        "outputId": "d5701dfa-080b-454e-e2c7-c9dc35824a45"
      },
      "execution_count": null,
      "outputs": [
        {
          "output_type": "execute_result",
          "data": {
            "text/plain": [
              "       Games Played      Wins      Goals       G/M  Clean Sheets  \\\n",
              "count       8.00000  8.000000   8.000000  8.000000      8.000000   \n",
              "mean       15.25000  4.875000  16.125000  1.050945      6.000000   \n",
              "std         1.38873  1.356203   5.514591  0.318939      1.690309   \n",
              "min        14.00000  3.000000  11.000000  0.764706      3.000000   \n",
              "25%        14.00000  4.000000  12.000000  0.839286      5.000000   \n",
              "50%        15.00000  4.500000  14.500000  0.928571      6.000000   \n",
              "75%        16.25000  6.000000  18.000000  1.185268      7.250000   \n",
              "max        17.00000  7.000000  27.000000  1.687500      8.000000   \n",
              "\n",
              "       Successful Passes        SP/M     Draws       Fouls      Touches  \\\n",
              "count           8.000000    8.000000  8.000000    8.000000     8.000000   \n",
              "mean         4480.125000  294.815389  5.500000  188.750000  8748.000000   \n",
              "std           365.756139   23.258759  1.690309   44.477121   707.174054   \n",
              "min          4021.000000  253.647059  4.000000  145.000000  7936.000000   \n",
              "25%          4252.500000  284.763655  4.000000  148.250000  8071.500000   \n",
              "50%          4445.000000  292.218750  5.500000  182.500000  8812.500000   \n",
              "75%          4700.250000  316.392857  6.000000  222.750000  9250.000000   \n",
              "max          5133.000000  320.812500  9.000000  250.000000  9693.000000   \n",
              "\n",
              "              T/M     Crosses        C/M  Red Cards       Shots        S/M  \\\n",
              "count    8.000000    8.000000   8.000000   8.000000    8.000000   8.000000   \n",
              "mean   574.491859  267.250000  17.588104   1.750000  188.875000  12.414194   \n",
              "std     23.886609   28.937124   1.879071   1.164965   24.723832   1.436706   \n",
              "min    539.000000  225.000000  15.125000   0.000000  159.000000  10.294118   \n",
              "25%    565.010504  252.500000  16.053571   1.000000  173.250000  11.297269   \n",
              "50%    567.075893  269.000000  17.647059   1.500000  184.500000  12.464286   \n",
              "75%    586.185268  277.000000  19.142857   3.000000  197.500000  13.555804   \n",
              "max    611.000000  323.000000  19.785714   3.000000  228.000000  14.250000   \n",
              "\n",
              "       Total Points     Rank  \n",
              "count      8.000000  8.00000  \n",
              "mean      20.125000  4.50000  \n",
              "std        4.998214  2.44949  \n",
              "min       15.000000  1.00000  \n",
              "25%       16.000000  2.75000  \n",
              "50%       18.500000  4.50000  \n",
              "75%       24.500000  6.25000  \n",
              "max       27.000000  8.00000  "
            ],
            "text/html": [
              "\n",
              "  <div id=\"df-2283a9bf-d6da-435b-bbdf-288edc7ed9fb\">\n",
              "    <div class=\"colab-df-container\">\n",
              "      <div>\n",
              "<style scoped>\n",
              "    .dataframe tbody tr th:only-of-type {\n",
              "        vertical-align: middle;\n",
              "    }\n",
              "\n",
              "    .dataframe tbody tr th {\n",
              "        vertical-align: top;\n",
              "    }\n",
              "\n",
              "    .dataframe thead th {\n",
              "        text-align: right;\n",
              "    }\n",
              "</style>\n",
              "<table border=\"1\" class=\"dataframe\">\n",
              "  <thead>\n",
              "    <tr style=\"text-align: right;\">\n",
              "      <th></th>\n",
              "      <th>Games Played</th>\n",
              "      <th>Wins</th>\n",
              "      <th>Goals</th>\n",
              "      <th>G/M</th>\n",
              "      <th>Clean Sheets</th>\n",
              "      <th>Successful Passes</th>\n",
              "      <th>SP/M</th>\n",
              "      <th>Draws</th>\n",
              "      <th>Fouls</th>\n",
              "      <th>Touches</th>\n",
              "      <th>T/M</th>\n",
              "      <th>Crosses</th>\n",
              "      <th>C/M</th>\n",
              "      <th>Red Cards</th>\n",
              "      <th>Shots</th>\n",
              "      <th>S/M</th>\n",
              "      <th>Total Points</th>\n",
              "      <th>Rank</th>\n",
              "    </tr>\n",
              "  </thead>\n",
              "  <tbody>\n",
              "    <tr>\n",
              "      <th>count</th>\n",
              "      <td>8.00000</td>\n",
              "      <td>8.000000</td>\n",
              "      <td>8.000000</td>\n",
              "      <td>8.000000</td>\n",
              "      <td>8.000000</td>\n",
              "      <td>8.000000</td>\n",
              "      <td>8.000000</td>\n",
              "      <td>8.000000</td>\n",
              "      <td>8.000000</td>\n",
              "      <td>8.000000</td>\n",
              "      <td>8.000000</td>\n",
              "      <td>8.000000</td>\n",
              "      <td>8.000000</td>\n",
              "      <td>8.000000</td>\n",
              "      <td>8.000000</td>\n",
              "      <td>8.000000</td>\n",
              "      <td>8.000000</td>\n",
              "      <td>8.00000</td>\n",
              "    </tr>\n",
              "    <tr>\n",
              "      <th>mean</th>\n",
              "      <td>15.25000</td>\n",
              "      <td>4.875000</td>\n",
              "      <td>16.125000</td>\n",
              "      <td>1.050945</td>\n",
              "      <td>6.000000</td>\n",
              "      <td>4480.125000</td>\n",
              "      <td>294.815389</td>\n",
              "      <td>5.500000</td>\n",
              "      <td>188.750000</td>\n",
              "      <td>8748.000000</td>\n",
              "      <td>574.491859</td>\n",
              "      <td>267.250000</td>\n",
              "      <td>17.588104</td>\n",
              "      <td>1.750000</td>\n",
              "      <td>188.875000</td>\n",
              "      <td>12.414194</td>\n",
              "      <td>20.125000</td>\n",
              "      <td>4.50000</td>\n",
              "    </tr>\n",
              "    <tr>\n",
              "      <th>std</th>\n",
              "      <td>1.38873</td>\n",
              "      <td>1.356203</td>\n",
              "      <td>5.514591</td>\n",
              "      <td>0.318939</td>\n",
              "      <td>1.690309</td>\n",
              "      <td>365.756139</td>\n",
              "      <td>23.258759</td>\n",
              "      <td>1.690309</td>\n",
              "      <td>44.477121</td>\n",
              "      <td>707.174054</td>\n",
              "      <td>23.886609</td>\n",
              "      <td>28.937124</td>\n",
              "      <td>1.879071</td>\n",
              "      <td>1.164965</td>\n",
              "      <td>24.723832</td>\n",
              "      <td>1.436706</td>\n",
              "      <td>4.998214</td>\n",
              "      <td>2.44949</td>\n",
              "    </tr>\n",
              "    <tr>\n",
              "      <th>min</th>\n",
              "      <td>14.00000</td>\n",
              "      <td>3.000000</td>\n",
              "      <td>11.000000</td>\n",
              "      <td>0.764706</td>\n",
              "      <td>3.000000</td>\n",
              "      <td>4021.000000</td>\n",
              "      <td>253.647059</td>\n",
              "      <td>4.000000</td>\n",
              "      <td>145.000000</td>\n",
              "      <td>7936.000000</td>\n",
              "      <td>539.000000</td>\n",
              "      <td>225.000000</td>\n",
              "      <td>15.125000</td>\n",
              "      <td>0.000000</td>\n",
              "      <td>159.000000</td>\n",
              "      <td>10.294118</td>\n",
              "      <td>15.000000</td>\n",
              "      <td>1.00000</td>\n",
              "    </tr>\n",
              "    <tr>\n",
              "      <th>25%</th>\n",
              "      <td>14.00000</td>\n",
              "      <td>4.000000</td>\n",
              "      <td>12.000000</td>\n",
              "      <td>0.839286</td>\n",
              "      <td>5.000000</td>\n",
              "      <td>4252.500000</td>\n",
              "      <td>284.763655</td>\n",
              "      <td>4.000000</td>\n",
              "      <td>148.250000</td>\n",
              "      <td>8071.500000</td>\n",
              "      <td>565.010504</td>\n",
              "      <td>252.500000</td>\n",
              "      <td>16.053571</td>\n",
              "      <td>1.000000</td>\n",
              "      <td>173.250000</td>\n",
              "      <td>11.297269</td>\n",
              "      <td>16.000000</td>\n",
              "      <td>2.75000</td>\n",
              "    </tr>\n",
              "    <tr>\n",
              "      <th>50%</th>\n",
              "      <td>15.00000</td>\n",
              "      <td>4.500000</td>\n",
              "      <td>14.500000</td>\n",
              "      <td>0.928571</td>\n",
              "      <td>6.000000</td>\n",
              "      <td>4445.000000</td>\n",
              "      <td>292.218750</td>\n",
              "      <td>5.500000</td>\n",
              "      <td>182.500000</td>\n",
              "      <td>8812.500000</td>\n",
              "      <td>567.075893</td>\n",
              "      <td>269.000000</td>\n",
              "      <td>17.647059</td>\n",
              "      <td>1.500000</td>\n",
              "      <td>184.500000</td>\n",
              "      <td>12.464286</td>\n",
              "      <td>18.500000</td>\n",
              "      <td>4.50000</td>\n",
              "    </tr>\n",
              "    <tr>\n",
              "      <th>75%</th>\n",
              "      <td>16.25000</td>\n",
              "      <td>6.000000</td>\n",
              "      <td>18.000000</td>\n",
              "      <td>1.185268</td>\n",
              "      <td>7.250000</td>\n",
              "      <td>4700.250000</td>\n",
              "      <td>316.392857</td>\n",
              "      <td>6.000000</td>\n",
              "      <td>222.750000</td>\n",
              "      <td>9250.000000</td>\n",
              "      <td>586.185268</td>\n",
              "      <td>277.000000</td>\n",
              "      <td>19.142857</td>\n",
              "      <td>3.000000</td>\n",
              "      <td>197.500000</td>\n",
              "      <td>13.555804</td>\n",
              "      <td>24.500000</td>\n",
              "      <td>6.25000</td>\n",
              "    </tr>\n",
              "    <tr>\n",
              "      <th>max</th>\n",
              "      <td>17.00000</td>\n",
              "      <td>7.000000</td>\n",
              "      <td>27.000000</td>\n",
              "      <td>1.687500</td>\n",
              "      <td>8.000000</td>\n",
              "      <td>5133.000000</td>\n",
              "      <td>320.812500</td>\n",
              "      <td>9.000000</td>\n",
              "      <td>250.000000</td>\n",
              "      <td>9693.000000</td>\n",
              "      <td>611.000000</td>\n",
              "      <td>323.000000</td>\n",
              "      <td>19.785714</td>\n",
              "      <td>3.000000</td>\n",
              "      <td>228.000000</td>\n",
              "      <td>14.250000</td>\n",
              "      <td>27.000000</td>\n",
              "      <td>8.00000</td>\n",
              "    </tr>\n",
              "  </tbody>\n",
              "</table>\n",
              "</div>\n",
              "      <button class=\"colab-df-convert\" onclick=\"convertToInteractive('df-2283a9bf-d6da-435b-bbdf-288edc7ed9fb')\"\n",
              "              title=\"Convert this dataframe to an interactive table.\"\n",
              "              style=\"display:none;\">\n",
              "        \n",
              "  <svg xmlns=\"http://www.w3.org/2000/svg\" height=\"24px\"viewBox=\"0 0 24 24\"\n",
              "       width=\"24px\">\n",
              "    <path d=\"M0 0h24v24H0V0z\" fill=\"none\"/>\n",
              "    <path d=\"M18.56 5.44l.94 2.06.94-2.06 2.06-.94-2.06-.94-.94-2.06-.94 2.06-2.06.94zm-11 1L8.5 8.5l.94-2.06 2.06-.94-2.06-.94L8.5 2.5l-.94 2.06-2.06.94zm10 10l.94 2.06.94-2.06 2.06-.94-2.06-.94-.94-2.06-.94 2.06-2.06.94z\"/><path d=\"M17.41 7.96l-1.37-1.37c-.4-.4-.92-.59-1.43-.59-.52 0-1.04.2-1.43.59L10.3 9.45l-7.72 7.72c-.78.78-.78 2.05 0 2.83L4 21.41c.39.39.9.59 1.41.59.51 0 1.02-.2 1.41-.59l7.78-7.78 2.81-2.81c.8-.78.8-2.07 0-2.86zM5.41 20L4 18.59l7.72-7.72 1.47 1.35L5.41 20z\"/>\n",
              "  </svg>\n",
              "      </button>\n",
              "      \n",
              "  <style>\n",
              "    .colab-df-container {\n",
              "      display:flex;\n",
              "      flex-wrap:wrap;\n",
              "      gap: 12px;\n",
              "    }\n",
              "\n",
              "    .colab-df-convert {\n",
              "      background-color: #E8F0FE;\n",
              "      border: none;\n",
              "      border-radius: 50%;\n",
              "      cursor: pointer;\n",
              "      display: none;\n",
              "      fill: #1967D2;\n",
              "      height: 32px;\n",
              "      padding: 0 0 0 0;\n",
              "      width: 32px;\n",
              "    }\n",
              "\n",
              "    .colab-df-convert:hover {\n",
              "      background-color: #E2EBFA;\n",
              "      box-shadow: 0px 1px 2px rgba(60, 64, 67, 0.3), 0px 1px 3px 1px rgba(60, 64, 67, 0.15);\n",
              "      fill: #174EA6;\n",
              "    }\n",
              "\n",
              "    [theme=dark] .colab-df-convert {\n",
              "      background-color: #3B4455;\n",
              "      fill: #D2E3FC;\n",
              "    }\n",
              "\n",
              "    [theme=dark] .colab-df-convert:hover {\n",
              "      background-color: #434B5C;\n",
              "      box-shadow: 0px 1px 3px 1px rgba(0, 0, 0, 0.15);\n",
              "      filter: drop-shadow(0px 1px 2px rgba(0, 0, 0, 0.3));\n",
              "      fill: #FFFFFF;\n",
              "    }\n",
              "  </style>\n",
              "\n",
              "      <script>\n",
              "        const buttonEl =\n",
              "          document.querySelector('#df-2283a9bf-d6da-435b-bbdf-288edc7ed9fb button.colab-df-convert');\n",
              "        buttonEl.style.display =\n",
              "          google.colab.kernel.accessAllowed ? 'block' : 'none';\n",
              "\n",
              "        async function convertToInteractive(key) {\n",
              "          const element = document.querySelector('#df-2283a9bf-d6da-435b-bbdf-288edc7ed9fb');\n",
              "          const dataTable =\n",
              "            await google.colab.kernel.invokeFunction('convertToInteractive',\n",
              "                                                     [key], {});\n",
              "          if (!dataTable) return;\n",
              "\n",
              "          const docLinkHtml = 'Like what you see? Visit the ' +\n",
              "            '<a target=\"_blank\" href=https://colab.research.google.com/notebooks/data_table.ipynb>data table notebook</a>'\n",
              "            + ' to learn more about interactive tables.';\n",
              "          element.innerHTML = '';\n",
              "          dataTable['output_type'] = 'display_data';\n",
              "          await google.colab.output.renderOutput(dataTable, element);\n",
              "          const docLink = document.createElement('div');\n",
              "          docLink.innerHTML = docLinkHtml;\n",
              "          element.appendChild(docLink);\n",
              "        }\n",
              "      </script>\n",
              "    </div>\n",
              "  </div>\n",
              "  "
            ]
          },
          "metadata": {},
          "execution_count": 5
        }
      ]
    },
    {
      "cell_type": "code",
      "source": [
        "dataframe.shape"
      ],
      "metadata": {
        "colab": {
          "base_uri": "https://localhost:8080/"
        },
        "id": "wO9mvwiHDDE2",
        "outputId": "807b64ba-c53e-492f-85de-d87e42b2bef9"
      },
      "execution_count": null,
      "outputs": [
        {
          "output_type": "execute_result",
          "data": {
            "text/plain": [
              "(8, 19)"
            ]
          },
          "metadata": {},
          "execution_count": 6
        }
      ]
    },
    {
      "cell_type": "code",
      "source": [
        "dataframe.info()"
      ],
      "metadata": {
        "colab": {
          "base_uri": "https://localhost:8080/"
        },
        "id": "pWi8dyVIDI-E",
        "outputId": "621e492d-8fac-4988-dd03-dd9c318f17fc"
      },
      "execution_count": null,
      "outputs": [
        {
          "output_type": "stream",
          "name": "stdout",
          "text": [
            "<class 'pandas.core.frame.DataFrame'>\n",
            "RangeIndex: 8 entries, 0 to 7\n",
            "Data columns (total 19 columns):\n",
            " #   Column             Non-Null Count  Dtype  \n",
            "---  ------             --------------  -----  \n",
            " 0   Club Name          8 non-null      object \n",
            " 1   Games Played       8 non-null      int64  \n",
            " 2   Wins               8 non-null      int64  \n",
            " 3   Goals              8 non-null      int64  \n",
            " 4   G/M                8 non-null      float64\n",
            " 5   Clean Sheets       8 non-null      int64  \n",
            " 6   Successful Passes  8 non-null      int64  \n",
            " 7   SP/M               8 non-null      float64\n",
            " 8   Draws              8 non-null      int64  \n",
            " 9   Fouls              8 non-null      int64  \n",
            " 10  Touches            8 non-null      int64  \n",
            " 11  T/M                8 non-null      float64\n",
            " 12  Crosses            8 non-null      int64  \n",
            " 13  C/M                8 non-null      float64\n",
            " 14  Red Cards          8 non-null      int64  \n",
            " 15  Shots              8 non-null      int64  \n",
            " 16  S/M                8 non-null      float64\n",
            " 17  Total Points       8 non-null      int64  \n",
            " 18  Rank               8 non-null      int64  \n",
            "dtypes: float64(5), int64(13), object(1)\n",
            "memory usage: 1.3+ KB\n"
          ]
        }
      ]
    },
    {
      "cell_type": "code",
      "source": [
        "del dataframe['Games Played'];\n",
        "del dataframe['Goals'];\n",
        "del dataframe['Successful Passes'];\n",
        "del dataframe['Touches'];\n",
        "del dataframe['Crosses'];\n",
        "del dataframe['Shots'];\n",
        "\n"
      ],
      "metadata": {
        "id": "znxROYSXInq4"
      },
      "execution_count": null,
      "outputs": []
    },
    {
      "cell_type": "code",
      "source": [
        "del dataframe['Red Cards'];"
      ],
      "metadata": {
        "id": "mQKa8owiLG_9"
      },
      "execution_count": null,
      "outputs": []
    },
    {
      "cell_type": "code",
      "source": [
        "correlation_matrix = dataframe.corr()\n",
        "# annot = True to print the values inside the square\n",
        "sns.heatmap(data=correlation_matrix, annot=True)"
      ],
      "metadata": {
        "colab": {
          "base_uri": "https://localhost:8080/",
          "height": 342
        },
        "id": "zLen_x37DUHE",
        "outputId": "2ec9c4b1-c028-4533-f776-3f01091906d2"
      },
      "execution_count": null,
      "outputs": [
        {
          "output_type": "execute_result",
          "data": {
            "text/plain": [
              "<AxesSubplot:>"
            ]
          },
          "metadata": {},
          "execution_count": 10
        },
        {
          "output_type": "display_data",
          "data": {
            "text/plain": [
              "<Figure size 432x288 with 2 Axes>"
            ],
            "image/png": "[encoded data removed]"
          },
          "metadata": {
            "needs_background": "light"
          }
        }
      ]
    },
    {
      "cell_type": "code",
      "source": [
        "sns.lineplot(x=\"Rank\", y=\"S/M\", data=dataframe)\n",
        "plt.show()"
      ],
      "metadata": {
        "id": "AbO5fcDw71ke",
        "colab": {
          "base_uri": "https://localhost:8080/",
          "height": 279
        },
        "outputId": "457bd1cb-8356-4ef2-9664-17fcdda4f184"
      },
      "execution_count": null,
      "outputs": [
        {
          "output_type": "display_data",
          "data": {
            "text/plain": [
              "<Figure size 432x288 with 1 Axes>"
            ],
            "image/png": "[encoded data removed]"
          },
          "metadata": {
            "needs_background": "light"
          }
        }
      ]
    },
    {
      "cell_type": "code",
      "source": [
        "from sklearn.linear_model import LinearRegression\n",
        "model = LinearRegression()"
      ],
      "metadata": {
        "id": "PGmMIugr_WNi"
      },
      "execution_count": null,
      "outputs": []
    },
    {
      "cell_type": "code",
      "source": [
        "X = dataframe[['G/M','Fouls','SP/M','T/M','Total Points']]"
      ],
      "metadata": {
        "id": "fhJ70zK4B5DM"
      },
      "execution_count": null,
      "outputs": []
    },
    {
      "cell_type": "code",
      "source": [
        "y = dataframe[['Rank']]"
      ],
      "metadata": {
        "id": "SIJ0FPeXCa3S"
      },
      "execution_count": null,
      "outputs": []
    },
    {
      "cell_type": "code",
      "source": [
        "from sklearn.model_selection import train_test_split\n"
      ],
      "metadata": {
        "id": "YOGgBlJvCpy6"
      },
      "execution_count": null,
      "outputs": []
    },
    {
      "cell_type": "code",
      "source": [
        "X_train, X_test, y_train, y_test = train_test_split(X, y, test_size=0.3, random_state=101)"
      ],
      "metadata": {
        "id": "iwQBaJ76Cp_L"
      },
      "execution_count": null,
      "outputs": []
    },
    {
      "cell_type": "code",
      "source": [
        "lm = LinearRegression()\n",
        "lm.fit(X_train,y_train)"
      ],
      "metadata": {
        "colab": {
          "base_uri": "https://localhost:8080/"
        },
        "id": "OFBuRZHYCqAu",
        "outputId": "cb8cde1d-8782-451f-f496-659376e550fd"
      },
      "execution_count": null,
      "outputs": [
        {
          "output_type": "execute_result",
          "data": {
            "text/plain": [
              "LinearRegression()"
            ]
          },
          "metadata": {},
          "execution_count": 18
        }
      ]
    },
    {
      "cell_type": "code",
      "source": [
        "lm.coef_"
      ],
      "metadata": {
        "colab": {
          "base_uri": "https://localhost:8080/"
        },
        "id": "FAlWuBtzDAlO",
        "outputId": "6a27816e-6cda-4b98-eef3-20ea62e6f676"
      },
      "execution_count": null,
      "outputs": [
        {
          "output_type": "execute_result",
          "data": {
            "text/plain": [
              "array([[ 0.46569732,  0.11577485,  3.38580869, -2.5694081 , -3.1505263 ]])"
            ]
          },
          "metadata": {},
          "execution_count": 19
        }
      ]
    },
    {
      "cell_type": "code",
      "source": [
        "predictions = lm.predict(X_test)"
      ],
      "metadata": {
        "id": "lua9ZoR_DBTI"
      },
      "execution_count": null,
      "outputs": []
    },
    {
      "cell_type": "code",
      "source": [
        "plt.scatter(y_test,predictions)\n",
        "plt.xlabel('Y Test')\n",
        "plt.ylabel('Predicted Y')"
      ],
      "metadata": {
        "colab": {
          "base_uri": "https://localhost:8080/",
          "height": 296
        },
        "id": "nVxIijr8DOqK",
        "outputId": "009c1f44-5d14-4c4f-cc68-500d40634785"
      },
      "execution_count": null,
      "outputs": [
        {
          "output_type": "execute_result",
          "data": {
            "text/plain": [
              "Text(0, 0.5, 'Predicted Y')"
            ]
          },
          "metadata": {},
          "execution_count": 21
        },
        {
          "output_type": "display_data",
          "data": {
            "text/plain": [
              "<Figure size 432x288 with 1 Axes>"
            ],
            "image/png": "[encoded data removed]"
          },
          "metadata": {
            "needs_background": "light"
          }
        }
      ]
    },
    {
      "cell_type": "code",
      "source": [],
      "metadata": {
        "id": "HIgwsoNjELtJ"
      },
      "execution_count": null,
      "outputs": []
    }
  ]
}